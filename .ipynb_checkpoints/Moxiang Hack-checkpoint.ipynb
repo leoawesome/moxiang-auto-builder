{
 "cells": [
  {
   "cell_type": "code",
   "execution_count": 1,
   "id": "555837dd",
   "metadata": {},
   "outputs": [
    {
     "name": "stdout",
     "output_type": "stream",
     "text": [
      "Collecting opencv-python\n",
      "  Downloading opencv_python-4.5.2.54-cp39-cp39-win_amd64.whl (34.7 MB)\n",
      "Collecting numpy>=1.19.3\n",
      "  Downloading numpy-1.21.0-cp39-cp39-win_amd64.whl (14.0 MB)\n",
      "Installing collected packages: numpy, opencv-python\n",
      "Successfully installed numpy-1.21.0 opencv-python-4.5.2.54\n"
     ]
    }
   ],
   "source": [
    "!pip install opencv-python"
   ]
  },
  {
   "cell_type": "code",
   "execution_count": 2,
   "id": "2ed85044",
   "metadata": {},
   "outputs": [
    {
     "name": "stdout",
     "output_type": "stream",
     "text": [
      "Requirement already satisfied: numpy in c:\\users\\leoaw\\miniconda3\\lib\\site-packages (1.21.0)\n"
     ]
    }
   ],
   "source": [
    "!pip install numpy"
   ]
  },
  {
   "cell_type": "code",
   "execution_count": 1,
   "id": "40a2443b",
   "metadata": {},
   "outputs": [],
   "source": [
    "import cv2\n",
    "import numpy as np"
   ]
  },
  {
   "cell_type": "code",
   "execution_count": 25,
   "id": "55427635",
   "metadata": {},
   "outputs": [],
   "source": [
    "source_img = cv2.imread('source.png', cv2.IMREAD_UNCHANGED)\n",
    "target_img = cv2.imread('target.png', cv2.IMREAD_UNCHANGED)"
   ]
  },
  {
   "cell_type": "code",
   "execution_count": 23,
   "id": "6a9902bc",
   "metadata": {},
   "outputs": [],
   "source": [
    "# cv2.imshow('Source', source_img)\n",
    "# cv2.waitKey()\n",
    "# cv2.destroyAllWindows()"
   ]
  },
  {
   "cell_type": "code",
   "execution_count": 4,
   "id": "ecdcc471",
   "metadata": {},
   "outputs": [],
   "source": [
    "# cv2.imshow('Target', target_img)\n",
    "# cv2.waitKey()\n",
    "# cv2.destroyAllWindows()"
   ]
  },
  {
   "cell_type": "code",
   "execution_count": 26,
   "id": "e3b82dd5",
   "metadata": {},
   "outputs": [],
   "source": [
    "result = cv2.matchTemplate(source_img, target_img, cv2.TM_CCOEFF_NORMED)"
   ]
  },
  {
   "cell_type": "code",
   "execution_count": 27,
   "id": "cebb161a",
   "metadata": {},
   "outputs": [],
   "source": [
    "# cv2.imshow('Result', result)\n",
    "# cv2.waitKey()\n",
    "# cv2.destroyAllWindows()"
   ]
  },
  {
   "cell_type": "code",
   "execution_count": 28,
   "id": "3b7434bf",
   "metadata": {},
   "outputs": [],
   "source": [
    "min_val, max_val, mix_loc, max_loc = cv2.minMaxLoc(result)"
   ]
  },
  {
   "cell_type": "code",
   "execution_count": 29,
   "id": "e23a7c38",
   "metadata": {},
   "outputs": [
    {
     "data": {
      "text/plain": [
       "0.9999989867210388"
      ]
     },
     "execution_count": 29,
     "metadata": {},
     "output_type": "execute_result"
    }
   ],
   "source": [
    "max_val"
   ]
  },
  {
   "cell_type": "code",
   "execution_count": 30,
   "id": "ca4c8f48",
   "metadata": {},
   "outputs": [
    {
     "data": {
      "text/plain": [
       "(1759, 840)"
      ]
     },
     "execution_count": 30,
     "metadata": {},
     "output_type": "execute_result"
    }
   ],
   "source": [
    "max_loc"
   ]
  },
  {
   "cell_type": "code",
   "execution_count": 31,
   "id": "dfd368f7",
   "metadata": {},
   "outputs": [],
   "source": [
    "w = target_img.shape[1]\n",
    "h = target_img.shape[0]"
   ]
  },
  {
   "cell_type": "code",
   "execution_count": 32,
   "id": "b76b5b31",
   "metadata": {
    "collapsed": true
   },
   "outputs": [
    {
     "data": {
      "text/plain": [
       "array([[[168, 168, 255, 255],\n",
       "        [152, 152, 254, 255],\n",
       "        [207, 208, 254, 255],\n",
       "        ...,\n",
       "        [255, 255, 255, 255],\n",
       "        [255, 255, 255, 255],\n",
       "        [255, 255, 255, 255]],\n",
       "\n",
       "       [[131, 131, 254, 255],\n",
       "        [155, 155, 254, 255],\n",
       "        [194, 195, 255, 255],\n",
       "        ...,\n",
       "        [255, 255, 255, 255],\n",
       "        [255, 255, 255, 255],\n",
       "        [255, 255, 255, 255]],\n",
       "\n",
       "       [[ 95,  95, 252, 255],\n",
       "        [181, 181, 255, 255],\n",
       "        [232, 232, 255, 255],\n",
       "        ...,\n",
       "        [255, 255, 255, 255],\n",
       "        [255, 255, 255, 255],\n",
       "        [255, 255, 255, 255]],\n",
       "\n",
       "       ...,\n",
       "\n",
       "       [[ 20,  15,  11, 255],\n",
       "        [ 39,  40,  38, 255],\n",
       "        [ 62,  64,  61, 255],\n",
       "        ...,\n",
       "        [ 16,  12,   6, 255],\n",
       "        [ 14,  10,   5, 255],\n",
       "        [ 12,   8,   5, 255]],\n",
       "\n",
       "       [[ 29,  26,  24, 255],\n",
       "        [ 32,  31,  29, 255],\n",
       "        [ 37,  36,  34, 255],\n",
       "        ...,\n",
       "        [ 16,  11,   6, 255],\n",
       "        [ 14,  10,   5, 255],\n",
       "        [ 11,   8,   5, 255]],\n",
       "\n",
       "       [[ 30,  28,  27, 255],\n",
       "        [ 31,  29,  27, 255],\n",
       "        [ 31,  29,  27, 255],\n",
       "        ...,\n",
       "        [ 16,  11,   6, 255],\n",
       "        [ 13,   9,   5, 255],\n",
       "        [ 11,   8,   4, 255]]], dtype=uint8)"
      ]
     },
     "execution_count": 32,
     "metadata": {},
     "output_type": "execute_result"
    }
   ],
   "source": [
    "cv2.rectangle(source_img, max_loc, (max_loc[0] + w, max_loc[1] + h), (0,255,255),2)"
   ]
  },
  {
   "cell_type": "code",
   "execution_count": 33,
   "id": "797b3ce3",
   "metadata": {},
   "outputs": [],
   "source": [
    "threshold = .98"
   ]
  },
  {
   "cell_type": "code",
   "execution_count": 34,
   "id": "02470fb0",
   "metadata": {},
   "outputs": [],
   "source": [
    "yloc, xloc = np.where(result >= threshold)"
   ]
  },
  {
   "cell_type": "code",
   "execution_count": 35,
   "id": "33510eb6",
   "metadata": {},
   "outputs": [
    {
     "data": {
      "text/plain": [
       "3"
      ]
     },
     "execution_count": 35,
     "metadata": {},
     "output_type": "execute_result"
    }
   ],
   "source": [
    "len(xloc)"
   ]
  },
  {
   "cell_type": "code",
   "execution_count": 36,
   "id": "57b62ea7",
   "metadata": {},
   "outputs": [],
   "source": [
    "for (x,y) in zip(xloc, yloc):\n",
    "    cv2.rectangle(source_img, (x,y), (x+w, y+h), (0,255,255), 2)"
   ]
  },
  {
   "cell_type": "code",
   "execution_count": 37,
   "id": "cc3050d6",
   "metadata": {},
   "outputs": [],
   "source": [
    "# What is a rectangle?\n",
    "# x, y, w, h\n",
    "rectangles = []\n",
    "for (x,y) in zip(xloc, yloc):\n",
    "    rectangles.append([int(x), int(y), int(w), int(h)])\n",
    "    rectangles.append([int(x), int(y), int(w), int(h)])"
   ]
  },
  {
   "cell_type": "code",
   "execution_count": 38,
   "id": "e9af892b",
   "metadata": {},
   "outputs": [],
   "source": [
    "rectangles, weights = cv2.groupRectangles(rectangles, 1, 0.2)"
   ]
  },
  {
   "cell_type": "code",
   "execution_count": 39,
   "id": "ea496452",
   "metadata": {},
   "outputs": [
    {
     "data": {
      "text/plain": [
       "2"
      ]
     },
     "execution_count": 39,
     "metadata": {},
     "output_type": "execute_result"
    }
   ],
   "source": [
    "len(rectangles)"
   ]
  },
  {
   "cell_type": "code",
   "execution_count": 40,
   "id": "9ebe7b6e",
   "metadata": {},
   "outputs": [],
   "source": [
    "for (x,y, w, h) in rectangles:\n",
    "    cv2.rectangle(source_img, (x,y), (x+w, y+h), (0,255,255), 2)"
   ]
  },
  {
   "cell_type": "code",
   "execution_count": 41,
   "id": "86f84f47",
   "metadata": {},
   "outputs": [],
   "source": [
    "cv2.imshow('Source', source_img)\n",
    "cv2.waitKey()\n",
    "cv2.destroyAllWindows()"
   ]
  }
 ],
 "metadata": {
  "kernelspec": {
   "display_name": "Python 3 (ipykernel)",
   "language": "python",
   "name": "python3"
  },
  "language_info": {
   "codemirror_mode": {
    "name": "ipython",
    "version": 3
   },
   "file_extension": ".py",
   "mimetype": "text/x-python",
   "name": "python",
   "nbconvert_exporter": "python",
   "pygments_lexer": "ipython3",
   "version": "3.9.1"
  }
 },
 "nbformat": 4,
 "nbformat_minor": 5
}
